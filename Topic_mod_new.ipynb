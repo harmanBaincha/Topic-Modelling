{
 "cells": [
  {
   "cell_type": "code",
   "execution_count": 1,
   "metadata": {},
   "outputs": [],
   "source": [
    "import sys\n",
    "# !{sys.executable} -m spacy download en\n",
    "import re, numpy as np, pandas as pd\n",
    "from pprint import pprint\n",
    "\n",
    "# Gensim\n",
    "import gensim, spacy, logging, warnings\n",
    "import gensim.corpora as corpora\n",
    "from gensim.utils import lemmatize, simple_preprocess\n",
    "from gensim.models import CoherenceModel\n",
    "import matplotlib.pyplot as plt\n",
    "import nltk\n",
    "import glob"
   ]
  },
  {
   "cell_type": "code",
   "execution_count": 2,
   "metadata": {},
   "outputs": [
    {
     "name": "stderr",
     "output_type": "stream",
     "text": [
      "[nltk_data] Downloading package stopwords to C:\\Users\\Dell\n",
      "[nltk_data]     Inspiron\\AppData\\Roaming\\nltk_data...\n",
      "[nltk_data]   Package stopwords is already up-to-date!\n"
     ]
    }
   ],
   "source": [
    "nltk.download('stopwords')\n",
    "en_stop = list(nltk.corpus.stopwords.words('english'))"
   ]
  },
  {
   "cell_type": "code",
   "execution_count": 3,
   "metadata": {},
   "outputs": [],
   "source": [
    "stopwords_new = ('h','−','given','p','z','w','-','use','selection','also','guess', 'price', 'house', 'repeating', 'four', 'n', 'times', 'create', 'n', 'finalized', 'let', 'say','bigger', 'picture', 'main', 'methods', 'avoid','go','together','several','com', 'built','similar','select','number','three','point','points','clear','well','shown', 'depicts','making', 'take', 'entire','accepted', 'salary', 'greater', 'commute', 'less', 'hour', 'incentives', 'offered', 'build','input','repeat','every', 'branch','estimating','done','commonly','uses', 'known', 'labeled','q', 'differences','value','steps','must','offers','offer','calculate','first','consider','usually','www','want','–','split','set','using','values','time','interview','mean',\"example\",\"means\",\"used\",\"two\",\"one\",\"k\",\"•\",\"λ\",\"sure\",\"like\",\"hi\",\"yeah\",\"um\",\"et\",\"al\",\"https\",\"http\",\"version\",\"org\",\"text\",\"x1\",\"human\",\"x\",\"b\",\"n,\"\"f\",\"-\",\"c\",\"e\",\"g\",\"da\",\"is\",\"a\", \"try\",\"think\", \"maybe\", \n",
    "                 \"actually\", \"everything\", \"right\",\"really\",\"share\",\"today\",\"going\", \"would\",\"try\",\"action\",\"setting\",\"meetings\",\n",
    "                \"thing\",\"sometimes\",\"image\", \"meeting\",\"label\", \"model\", \"working\", \"basically\", \"start\", \"problem\", \"mandy\", \"yesterday\",\n",
    "                 \"function\", \"great\", \"speaker\",\"minute\",\"update\",\"running\", \"monday\",\"thought\", \"sense\",\"based\",\"leave\",\"sophia\",\"nice\",\n",
    "                 \"good\", \"work\", \"stuff\",\"project\",\"kind\",\"guy\",\"interesting\",\"kind\",\"data\",\"user\",\"screen\",\n",
    "                 \"leaving\",\"view\", \"idea\")\n",
    "for i in stopwords_new:\n",
    "    en_stop.append(i)"
   ]
  },
  {
   "cell_type": "code",
   "execution_count": 4,
   "metadata": {},
   "outputs": [],
   "source": [
    "# keywords_one=[]\n",
    "with open('stopwords.txt', encoding=\"utf8\") as f:\n",
    "    for line in f.readlines():\n",
    "        line = str(line).replace(\"\\n\",\"\")\n",
    "#         line = str(line).replace(\"\\ufeff\",\"\")\n",
    "#         line=line.encode('utf-8', errors='ignore')\n",
    "        en_stop.append(line)"
   ]
  },
  {
   "cell_type": "code",
   "execution_count": 5,
   "metadata": {},
   "outputs": [],
   "source": [
    "docs=[]\n",
    "str2=[]\n",
    "for file_name in glob.iglob('C://Users//Dell Inspiron//Downloads//Transcript//*', recursive=True): \n",
    "    with open(file_name) as f:\n",
    "        dict_cont_org=''\n",
    "        for line in f.readlines():\n",
    "            name=line.split(':')\n",
    "#             print(name[1])\n",
    "            dict_cont_org=dict_cont_org+name[1]\n",
    "        docs.append(dict_cont_org)"
   ]
  },
  {
   "cell_type": "code",
   "execution_count": 6,
   "metadata": {},
   "outputs": [],
   "source": [
    "for i in docs:\n",
    "    i=i.replace(\"\\n\",\" \")"
   ]
  },
  {
   "cell_type": "code",
   "execution_count": 7,
   "metadata": {},
   "outputs": [],
   "source": [
    "import spacy\n",
    "spacy.load('en_core_web_sm')\n",
    "from spacy.lang.en import English\n",
    "parser = English()\n",
    "def tokenize(text):\n",
    "    lda_tokens = []\n",
    "    tokens = parser(text)\n",
    "    for token in tokens:\n",
    "        if token.orth_.isspace():\n",
    "            continue\n",
    "        elif token.like_url:\n",
    "            lda_tokens.append('URL')\n",
    "        elif token.orth_.startswith('@'):\n",
    "            lda_tokens.append('SCREEN_NAME')\n",
    "        else:\n",
    "            lda_tokens.append(token.lower_)\n",
    "    return lda_tokens"
   ]
  },
  {
   "cell_type": "code",
   "execution_count": 8,
   "metadata": {},
   "outputs": [],
   "source": [
    "from nltk.stem.wordnet import WordNetLemmatizer\n",
    "def get_lemma2(word):\n",
    "    return WordNetLemmatizer().lemmatize(word)\n",
    "from nltk.stem import PorterStemmer\n",
    "def get_stem(word):\n",
    "#     p=PorterStemmer()\n",
    "    return PorterStemmer().stem(word)"
   ]
  },
  {
   "cell_type": "code",
   "execution_count": 9,
   "metadata": {},
   "outputs": [],
   "source": [
    "def prepare_text_for_lda(text):\n",
    "    tokens = tokenize(text)\n",
    "    tokens = [token for token in tokens if len(token) > 3]\n",
    "    tokens = [token for token in tokens if token not in en_stop]\n",
    "    tokens = [get_lemma2(token) for token in tokens]\n",
    "    tokens = [token for token in tokens if token not in en_stop]\n",
    "#     tokens = [get_stem(token) for token in tokens]\n",
    "    return tokens"
   ]
  },
  {
   "cell_type": "code",
   "execution_count": 10,
   "metadata": {},
   "outputs": [],
   "source": [
    "import random\n",
    "text_data = []"
   ]
  },
  {
   "cell_type": "code",
   "execution_count": 20,
   "metadata": {},
   "outputs": [
    {
     "name": "stdout",
     "output_type": "stream",
     "text": [
      "['francis', 'danish', 'heavily', 'dish', 'restaurant', 'packing', 'lord', 'fence', 'moving', 'moving', 'sign', 'trite', 'zoom', 'kahlo', 'visit', 'hear', 'francis', 'finish', 'living', 'living', 'fellowship', 'large', 'docker', 'cheesy', 'game', 'manage', 'gnash', 'adam', 'team', 'member', 'younes', 'team', 'member', 'day', 'absolutely', 'task', 'needed', 'hear', 'eventually', 'task', 'asked', 'looked', 'type', 'wear', 'people', 'independently', 'baby', 'person', 'wanted', 'interested', 'streaking', 'dating', 'force', 'test', 'talking', 'telling', 'team', 'absolutely', 'dinitia', 'fortunately', 'resolved', 'creating', 'area', 'latent', 'presentation', 'apply', 'verity', 'answered', 'humidity', 'fact', 'bunch', 'code', 'closed', 'wanted', 'venue', 'save', 'notebook', 'reload', 'safe', 'deciding', 'notice', 'thinking', 'loaded', 'load', 'changed', 'caused', 'issue', 'loaded', 'loaded', 'true', 'assumes', 'form', 'format', 'tree', 'network', 'loading', 'transposing', 'dimension', 'issue', 'discrepancy', 'fast', 'pytorch', 'land', 'causing', 'issue', 'dealing', 'fortunately', 'result', 'fixed', 'match', 'weekend', 'r.n.n', 'score', 'save', 'double', 'respective', 'presentation', 'fault', 'creating', 'read', 'wanna', 'large', 'emission', 'docker', 'c.n.n', 'presentation', 'airy', 'representation', 'area', 'size', 'row', 'batch', 'collins', 'embedding', 'size', 'cross', 'deceiving', 'saved', 'combine', 'combine', 'stuck', 'ordinarily', 'reading', 'government', 'presentation', 'eating', 'food', 'patient', 'respective', 'bunch', 'heard', 'labor', 'busy', 'wanna', 'packing', 'creating', 'fine', 'dream', 'morgan', 'combine', 'file', 'fine', 'predator', 'evening', 'bite', 'combine', 'history', 'fine', 'memory', 'score', 'court', 'gate', 'andi', 'presentation', 'ellison', 'combined', 'applauded', 'severe', 'uploaded', 'deepest', 'additional', 'mind', 'joonas', 'neftci', 'kera', 'sick', 'bring', 'francis', 'cold', 'clean', 'document', 'emily', 'beat', 'attitude', 'average', 'repository', 'moment', 'separated', 'incense', 'place', 'living', 'fellowship', 'answering', 'email', 'needed', 'clarification', 'week', 'match', 'code', 'grand', 'compared', 'wondering', 'meant', 'fellowship', 'hear', 'base', 'people', 'year', 'luck', 'giulio', 'room', 'loving', 'hearing', 'decided', 'complete', 'thesis', 'totally', 'a.b.', 'search', 'carrier', 'finish', 'thesis', 'master', 'piece', 'space', 'massive', 'happy', 'rest', 'faith', 'explain', 'shock', 'check', 'kill', 'fine', 'court', 'generate', 'presentation', 'combined', 'knowing', 'hope', 'touch', 'sight', 'people', 'switch', 'agree', 'internationalist', 'stress', 'totally', 'forgot', 'upload', 'documentation', 'commenting', 'common', 'circled', 'aware', 'needed', 'fear', 'upload', 'documented', 'food', 'starchild', 'group', 'villafana', 'david', 'referred', 'accord', 'talk', 'shock']\n",
      "['plotly', 'people', 'join', 'holiday', 'join', 'trina', 'book', 'learning', 'open', 'source', 'rest', 'tutorial', 'monk', 'website', 'called', 'piggy', 'barbecue', 'duck', 'rib', 'bacon', 'optimize', 'click', 'planner', 'score', 'bacon', 'square', 'root', 'bacon', 'root', 'jason', 'planet', 'print', 'train', 'reward', 'overplay', 'cool', 'promising', 'trouble', 'tool', 'python', 'talk', 'docker', 'docker', 'isolation', 'hear', 'a.b.', 'center', 'manually', 'assume', 'expression', 'year', 'docker', 'change', 'essen', 'parameter', 'button', 'color', 'nous', 'passing', 'provide', 'uncle', 'provide', 'circle', 'liar', 'provide', 'code', 'kera', 'sting', 'year', 'assuming', 'soft', 'year', 'decision', 'glynor', 'richard', 'pretty', 'life', 'schedule', 'sweet', 'wasted', 'r.n.n.', 'frankenfish', 'fine', 'code', 'manual', 'wrong', 'stool', 'called', 'packet', 'free', 'a.b.', 'testing', 'tool', 'tryingto', 'switch', 'promising', 'previous', 'group', 'group', 'condition', 'group', 'supposed', 'finishing', 'weekend', 'ready', 'condition', 'respected', 'question', 'familiarize', 'docker']\n",
      "['realized', 'hard', 'figured', 'figured', 'police', 'completely', 'jazz', 'choice', 'open', 'test', 'notice', 'test', 'created', 'test', 'figure', 'display', 'choice', 'stuck', 'moment', 'service', 'recognizable', 'stole', 'c.n.n.', 'installed', 'lion', 'installed', 'dutchy', 'remember', 'exact', 'commend', 'remember', 'install', 'minor', 'install', 'ashley', 'alike', 'progress', 'cool', 'a.b.', 'film', 'test', 'knowing', 'variation', 'load', 'variation', 'hard', 'provide', 'a.b.', 'filing', 'interior', 'directory', 'showing', 'knowing', 'jail', 'pretty', 'easy', 'supposed', 'link', 'document', 'sight', 'iphone', 'gen.', 'boy', 'worse', 'place', 'general', 'file', 'worker', 'angel', 'space', 'gentle', 'street', 'jet', 'coming', 'lost', 'tough', 'hearing', 'white', 'street', 'year', 'chalice', 'kera', 'implemented', 'a.b.', 'wanna', 'choice', 'supposed', 'showing', 'test', 'supposed', 'test', 'connecting', 'display', 'test', 'javascript', 'code', 'mutation', 'code', 'command', 'creates', 'test', 'weight', 'percentage', 'test', 'showing', 'degree', 'showing', 'blue', 'fake', 'decision', 'test', 'client', 'provide', 'choice', 'client', 'amended', 'collecting', 'statistic', 'figure', 'showing', 'choice', 'starting', 'javascript', 'django', 'website', 'decision', 'mentally', 'change', 'local', 'horse', 'secret', 'love', 'figure', 'manually', 'change', 'local', 'host', 'website', 'secret', 'case', 'a.b.', 'test', 'optimize', 'google', 'optimus', 'accept', 'local', 'hole', 'changed', 'term', 'local', 'host', 'website', 'josef', 'group', 'signing', 'jealous', 'secretly', 'believed', 'change', 'host', 'left', 'hosting', 'enjoy', 'real', 'website', 'local', 'host', 'google', 'optimize', 'jealous', 'cigarette', 'accept', 'coast', 'left', 'change', 'host', 'flip', 'local', 'host', 'change', 'pure', 'jealousy', 'crib', 'issue', 'cool', 'question', 'bug', 'close', 'close', 'merge', 'teoh', 'easier', 'posted', 'channel', 'instruction', 'wrote', 'installation', 'post', 'install', 'choice', 'vanga', 'tish', 'install', 'special', 'change', 'a.b.', 'throw', 'error', 'jobless', 'cook', 'error', 'tryto', 'catch', 'block', 'commented', 'complain', 'small', 'figured', 'figure', 'send', 'sound', 'talk', 'week', 'plainest']\n",
      "['extending', 'seated', 'offline', 'xavi', 'playing', 'django', 'euro', 'quiz', 'longer', 'button', 'high', 'region', 'bacon', 'rib', 'simulate', 'decision', 'context', 'regionals', 'decision', 'choice', 'nicely', 'pushed', 'pull', 'test', 'webpage', 'refresh', 'current', 'variant', 'increase', 'refresh', 'refresh', 'vehicle', 'figure', 'sort', 'monitoring', 'remember', 'bacon', 'reward', 'decision', 'maker', 'soft', 'rinker', 'reward', 'click', 'click', 'click', 'measuring', 'clicked', 'button', 'reward', 'remember', 'python', 'scenario', 'ratio', 'randomly', 'click', 'ratio', 'favor', 'bacon', 'person', 'rib', 'average', 'random', 'quits', 'ratio', 'measuring', 'click', 'website', 'clicking', 'button', 'bacon', 'button', 'bacon', 'bacon', 'carib', 'understood', 'random', 'click', 'click', 'ratio', 'click', 'clicked', 'average', 'bacon', 'bacon', 'button', 'percent', 'rib', 'rib', 'visit', 'decision', 'sfar', 'understood', 'button', 'clicked', 'reward', 'looked', 'spent', 'website', 'google', 'analytics', 'tool', 'simpler', 'tool', 'measure', 'automatically', 'write', 'javascript', 'measure', 'button', 'clicked', 'long', 'spent', 'website', 'shark', 'specific', 'success', 'country', 'website', 'issue', 'website', 'alexei', 'posted', 'worked', 'worked', 'worked', 'worked', 'internet', 'microsoft', 'azure', 'chrome', 'kelly', 'plug', 'chrome', 'opened', 'crewman', 'worked', 'chrome', 'issue', 'post', 'post', 'code', 'push', 'post', 'instruction', 'case', 'jangle', 'shock', 'reward', 'approach', 'weaken', 'weaken', 'figure', 'gather', 'context', 'javascript', 'figure', 'location', 'writing', 'reward', 'contextual', 'bandit', 'teoh', 'base', 'word', 'eventually', 'eventually', 'plan', 'figure', 'connection', 'bandit', 'fellowship', 'train', 'online', 'offline', 'train', 'online', 'turn', 'website', 'serve', 'training', 'gather', 'choose', 'variant', 'choose', 'random', 'teoh', 'train', 'bandit', 'menu', 'serve', 'bend', 'book', 'trained', 'type', 'context', 'serve', 'vary', 'figure', 'bandit', 'javascript', 'python', 'training', 'python', 'communication', 'script', 'reward', 'reward', 'reward', 'context', 'optimized', 'evolved', 'remember', 'button', 'size', 'logo', 'size', 'decide', 'size', 'reward', 'spends', 'website', 'size', 'variant', 'randomly', 'choose', 'randomly', 'read', 'code', 'pushed', 'choice', 'installation', 'dependency', 'stole', 'buggy', 'weaken', 'weaken', 'installation', 'xabi', 'question', 'question', 'launchpad', 'launchpad', 'website', 'living', 'shock', 'wordpress', 'website', 'figure', 'embed', 'javascript', 'wordpress', 'website', 'custom', 'pulled', 'recites', 'helping', 'bamattre', 'ridden', 'fellowship', 'upside', 'embed', 'java', 'strip', 'cooling', 'triceps', 'custom', 'called', 'cool', 'figure', 'news', 'woman', 'threat', 'started', 'food', 'bored', 'love', 'c.n.n', 'question', 'spot', 'buying']\n",
      "['pero', 'latest', 'watchman', 'creepy', 'interning', 'watchman', 'docker', 'quarry', 'docker', 'guest', 'thinking', 'pretty', 'wide', 'thinking', 'final', 'randy', 'r.n.n.', 'javascript', 'file', 'smash', 'stage', 'fight', 'docker', 'jonah', 'strip', 'vanilla', 'scrappy', 'flash', 'request', 'docker', 'docker', 'splashed', 'difference', 'chose', 'flash', 'request', 'scrapie', 'respect', 'doctor', 'cool', 'venue', 'selector', 'script', 'daily', 'chrome', 'extension', 'called', 'generator', 'cool', 'book', 'lester', 'iwas', 'pretty', 'critical', 'fine', 'notice', 'waas', 'website', 'sound', 'sample', 'upside', 'wanted', 'scrape', 'order', 'multiple', 'author', 'court', 'shell', 'michel', 'exact', 'seizes', 'stack', 'coolum', 'extension', 'wondered', 'element', 'exane', 'extremely', 'hero', 'tagger', 'auto', 'open', 'turning', 'door', 'daughter', 'shell', 'description', 'requires', 'easier', 'easier', 'amazon', 'docker', 'docker', 'splash', 'place', 'place', 'docker', 'seize', 'beautiful', 'legally', 'doctor', 'open', 'location', 'particle', 'hope', 'product', 'enter', 'figured', 'amazing', 'patient', 'interrupter', 'c.n.n.', 'reason', 'zoom', 'load', 'completely', 'pretty', 'crappy', 'website', 'crab', 'pant', 'severe', 'essentially', 'title', 'andre', 'lewis', 'title', 'kenny', 'fur', 'tricky', 'ecstatic', 'click', 'docker', 'wait', 'selected', 'told', 'patrick', 'wanna', 'inspect', 'called', 'traditional', 'hold', 'fork', 'shot', 'close', 'unity', 'amazed', 'searched', 'attribute', 'blood', 'correct', 'crayfish', 'bugger', 'scrip', 'michel', 'scripting', 'shooting', 'string', 'worked', 'require', 'lepage', 'sconce', 'response', 'byam', 'issue', 'watching', 'attack', 'living', 'year', 'munich', 'container', 'unix', 'docker', 'tag', 'stack', 'disseminated', 'tiger', 'corresponds', 'tightening', 'inspire', 'rapper', 'proper', 'property', 'class', 'panda', 'docker', 'output', 'grapple', 'selected', 'life', 'imaged', 'class', 'class', 'dave', 'class', 'class', 'lastly', 'trapped', 'texture', 'heart', 'texture', 'grab', 'class', 'product', 'feel', 'grab', 'check', 'semantics', 'class', 'product', 'vore', 'common', 'forgive', 'argparse', 'website', 'passing', 'simple', 'reason', 'common', 'losing', 'stick', 'simple', 'notice', 'a.b.', 'support', 'choose', 'passing', 'waas', 'target', 'class', 'class', 'looked', 'order', 'year', 'forcing', 'passing', 'r.n.n.', 'ongoing', 'court', 'andi', 'order', 'quote', 'court', 'dave', 'type', 'feel', 'reason', 'deck', 'dave', 'dark', 'code', 'specific', 'dry', 'specific', 'control', 'thinking', 'focusing', 'lived', 'class', 'evidence', 'base', 'started', 'matter', 'thief', 'class', 'check', 'response', 'docker', 'comment', 'correct', 'post', 'hang', 'extract', 'response', 'vehicle', 'response', 'fine', 'thinking', 'response', 'wanted', 'waver', 'market', 'close', 'close', 'close', 'inspect', 'clothes', 'chairman', 'america', 'doubt', 'bomb', 'high', 'question', 'splash', 'javascript', 'bugger', 'scrappy', 'shell', 'fall', 'court', 'dave', 'docker', 'talked', 'corpse', 'response', 'response', 'topsy', 'assis', 'rendered', 'collecting', 'splash', 'flash', 'goingto', 'tojust', 'court', 'ready', 'connect', 'splash', 'happen', 'script', 'michelle', 'connected', 'trudeau', 'slash', 'street', 'slash', 'night', 'year', 'strain', 'comment', 'existing', 'code', 'piece', 'pull', 'equipment', 'mechanically', 'response', 'write', 'ass', 'village', 'docker', 'test', 'year', 'indexed', 'approach', 'apparition', 'mother', 'connected', 'flash', 'collect', 'slash', 'extract', 'writing', 'output', 'dave', 'ride', 'commander', 'correct', 'upset', 'correct', 'remember', 'responder', 'website', 'connect', 'splash', 'seizes', 'website', 'c.n.n', 'forgetting', 'code', 'response', 'likable', 'debug', 'mode', 'response', 'debug', 'mode', 'debug', 'mode', 'essentially', 'shell', 'shell', 'tenable', 'write', 'website', 'shell', 'output', 'output', 'year', 'reason', 'shell', 'splash', 'connect', 'wayto', 'par', 'docker', 'docker', 'splash', 'funeral', 'parenti', 'kenny', 'regex', 'wanted', 'starry', 'latest', 'specific', 'latest', 'luck', 'pretty', 'urals', 'differently', 'euro', 'girl', 'created', 'product', 'director', 'figure', 'expert', 'express', 'expert', 'posit', 'rate', 'district', 'bernie', 'commented', 'doctor', 'sample', 'product', 'randy', 'manual', 'itchy', 'crawling', 'approach', 'belongs', 'father', 'product', 'pronounces', 'printing', 'response', 'year', 'commented', 'christ', 'response', 'euro', 'weird', 'defined', 'link', 'ready', 'ozone', 'experimenting', 'slash', 'noticed', 'satisfied', 'condition', 'grab', 'grab', 'death', 'wrap', 'google', 'strike', 'zoom', 'city', 'zuma', 'change', 'sound', 'difference', 'exercised', 'jumpsuit', 'speak', 'grab', 'person', 'correct', 'grab', 'looked', 'search', 'dead', 'choosing', 'grabbed', 'grabbed', 'source', 'fine', 'depends', 'class', 'class', 'class', 'noticed', 'lived', 'class', 'purple', 'note', 'narrow', 'note', 'attribute', 'class', 'orange', 'attribute', 'diplomatic', 'folder', 'basic', 'concealer', 'color', 'correct', 'response', 'resting', 'grab', 'safe', 'shit', 'grab', 'grab', 'grab', 'selenium', 'refined', 'strategy', 'grab', 'wrapped', 'bring', 'doctor', 'excuse', 'splash', 'requires', 'experiencing', 'pittman', 'figure', 'heather', 'header', 'language', 'changed', 'variable', 'productive', 'title', 'hard', 'closest', 'steve', 'title', 'change', 'edge', 'heather', 'title', 'father', 'prince', 'awesome', 'knee', 'specific', 'common', 'challenge', 'body', 'quarry', 'motiveless', 'randy', 'office', 'rate', 'business', 'morning', 'vein', 'tieu', 'brand', 'product', 'title', 'unit', 'sold', 'command', 'weather', 'failed', 'felt', 'blast', 'feel', 'standing', 'express', 'common', 'express', 'l.s.t.m.', 'true', 'sends', 'save', 'admirable', 'feed', 'dumped', 'finished', 'bending', 'year', 'unjust', 'dumped', 'sound', 'devin', 'alive', 'connecting', 'response', 'response', 'space', 'winner', 'connect', 'connection', 'difference', 'response', 'shared', 'devil', 'high', 'level', 'dave', 'note', 'heather', 'item', 'popularity', 'attribute', 'multiple', 'attribute', 'multiple', 'attribute', 'class', 'stroller', 'narrow', 'choice', 'common', 'troll', 'gundam', 'siesta', 'concede', 'sister', 'renault', 'modify', 'older', 'thief', 'class', 'closest', 'note', 'docker', 'class', 'unique', 'multiple', 'print', 'multiple', 'major', 'link', 'choose', 'unit', 'narrow', 'class', 'obsolete', 'brings', 'turn', 'attack', 'finished', 'verde', 'disservice', 'moroccan', 'error', 'attribute', 'called', 'farsi', 'correct', 'common', 'correct', 'command', 'genetically', 'express', 'losing', 'xcode', 'ambling', 'keyboard', 'year', 'check', 'pose', 'river', 'understand', 'paying', 'figure', 'note', 'trip', 'correct', 'tribute', 'note', 'correct', 'tribute', 'changed', 'note', 'numpy', 'expert', 'safest', 'directed', 'confusing', 'assessing', 'connecting', 'plaster', 'wanted', 'copy', 'place', 'learned', 'title', 'bleeding', 'told', 'cultivate', 'compute', 'connect', 'splash', 'replaced', 'year', 'expectancy', 'english', 'correcting', 'trick', 'correct', 'inmate', 'distribute', 'ensure', 'video', 'file', 'converted', 'unit', 'play', 'export', 'mentioned', 'spider', 'spider', 'combination', 'creepy', 'powerful', 'beautiful', 'soup', 'larayedh', 'creepy', 'beautiful', 'soup', 'scrapie', 'beautiful', 'scrapie', 'slash', 'equal', 'beautiful', 'open', 'selenium', 'scrapie', 'splash', 'slacker', 'message', 'send', 'bikers', 'check', 'awaited', 'latest', 'finish', 'docker', 'armed', 'pull', 'watch', 'thinking', 'hoping', 'tomorrow', 'morning', 'phrase', 'pfc', 'a.b.', 'absolutely', 'place', 'complete', 'decide', 'onboard', 'supposed', 'train', 'docker', 'life', 'street', 'mixed', 'decision', 'happen', 'beacon', 'watchman', 'sound', 'happen', 'spend', 'lydia', 'late', 'tomorrow', 'issue', 'morning', 'watchman', 'benchmark', 'posted', 'school', 'commander', 'moment', 'read', 'watchman', 'shit', 'fine', 'shot', 'late', 'watchman', 'correct', 'people', 'figure', 'doubt', 'doubt', 'cigarette', 'communication', 'obvious', 'group', 'group', 'started', 'week', 'cool', 'correct', 'watchman', 'logo', 'addition', 'talk', 'tomorrow', 'crumble', 'tomorrow', 'morning', 'category', 'fixed', 'watchman', 'invest', 'tomorrow', 'fighting', 'saturday', 'friday', 'slower', 'july', 'quest', 'delay', 'sport', 'july', 'force', 'friday', 'kera', 'independence', 'independence', 'prevented', 'year', 'year', 'year', 'graduate', 'study', 'post', 'docker', 'year', 'craig', 'cool', 'brother', 'awesome', 'talking', 'blade', 'tomorrow', 'absolutely', 'play', 'post', 'person', 'a.b.', 'david', 'spit', 'tomorrow']\n"
     ]
    }
   ],
   "source": [
    "text_data=[]\n",
    "str2=[]\n",
    "for doc in docs:\n",
    "        tokens = prepare_text_for_lda(doc)\n",
    "        if random.random() > .90:\n",
    "            print(tokens)\n",
    "            text_data.append(tokens)"
   ]
  },
  {
   "cell_type": "code",
   "execution_count": 21,
   "metadata": {},
   "outputs": [],
   "source": [
    "data_words=text_data\n",
    "bigram = gensim.models.Phrases(data_words, min_count=5, threshold=100) # higher threshold fewer phrases.\n",
    "trigram = gensim.models.Phrases(bigram[data_words], threshold=100)  \n",
    "bigram_mod = gensim.models.phrases.Phraser(bigram)\n",
    "trigram_mod = gensim.models.phrases.Phraser(trigram)\n",
    "texts = [bigram_mod[doc] for doc in data_words]"
   ]
  },
  {
   "cell_type": "code",
   "execution_count": 22,
   "metadata": {},
   "outputs": [],
   "source": [
    "# def process_words(texts, stop_words=en_stop, allowed_postags=['NOUN', 'ADJ', 'VERB', 'ADV']):\n",
    "#     \"\"\"Remove Stopwords, Form Bigrams, Trigrams and Lemmatization\"\"\"\n",
    "#     texts = [[word for word in simple_preprocess(str(doc)) if word not in stop_words] for doc in texts]\n",
    "#     texts = [bigram_mod[doc] for doc in texts]\n",
    "#     texts = [trigram_mod[bigram_mod[doc]] for doc in texts]\n",
    "#     texts_out = []\n",
    "#     nlp = spacy.load('en_core_web_sm', disable=['parser', 'ner'])\n",
    "#     for sent in texts:\n",
    "#         doc = nlp(\" \".join(sent)) \n",
    "#         texts_out.append([token.lemma_ for token in doc if token.pos_ in allowed_postags])\n",
    "#     # remove stopwords once more after lemmatization\n",
    "#     texts_out = [[word for word in simple_preprocess(str(doc)) if word not in stop_words] for doc in texts_out]    \n",
    "#     return texts_out\n",
    "\n",
    "# data_ready = process_words(data_words)  # processed Text Data!"
   ]
  },
  {
   "cell_type": "code",
   "execution_count": 26,
   "metadata": {},
   "outputs": [
    {
     "name": "stdout",
     "output_type": "stream",
     "text": [
      "Topic 0    0.012*\"presentation\" + 0.008*\"fine\" + 0.008*\"combine\" + 0.006*\"hear\" + 0.006*\"people\" + 0.006*\"issue\" + 0.006*\"living\" + 0.006*\"fellowship\" + 0.006*\"francis\" + 0.006*\"loaded\" + 0.006*\"creating\" + 0.006*\"team\" + 0.006*\"needed\" + 0.004*\"docker\" + 0.004*\"code\" + 0.004*\"score\" + 0.004*\"court\" + 0.004*\"wanted\" + 0.004*\"wanna\" + 0.004*\"absolutely\" + 0.004*\"food\" + 0.004*\"size\" + 0.004*\"save\" + 0.004*\"finish\" + 0.004*\"moving\"\n",
      "\n",
      "Topic 1    0.020*\"docker\" + 0.017*\"class\" + 0.014*\"year\" + 0.014*\"response\" + 0.011*\"correct\" + 0.009*\"grab\" + 0.009*\"splash\" + 0.007*\"watchman\" + 0.006*\"tomorrow\" + 0.006*\"note\" + 0.006*\"title\" + 0.006*\"shell\" + 0.006*\"attribute\" + 0.006*\"product\" + 0.006*\"website\" + 0.005*\"common\" + 0.005*\"dave\" + 0.004*\"pretty\" + 0.004*\"connect\" + 0.004*\"court\" + 0.004*\"called\" + 0.004*\"thinking\" + 0.004*\"multiple\" + 0.004*\"beautiful\" + 0.004*\"cool\"\n",
      "\n",
      "Topic 2    0.025*\"test\" + 0.014*\"choice\" + 0.014*\"change\" + 0.014*\"host\" + 0.014*\"local\" + 0.012*\"a.b.\" + 0.012*\"showing\" + 0.009*\"website\" + 0.009*\"figure\" + 0.009*\"install\" + 0.007*\"supposed\" + 0.007*\"figured\" + 0.005*\"decision\" + 0.005*\"code\" + 0.005*\"javascript\" + 0.005*\"provide\" + 0.005*\"optimize\" + 0.005*\"remember\" + 0.005*\"google\" + 0.005*\"cool\" + 0.005*\"knowing\" + 0.005*\"close\" + 0.005*\"street\" + 0.005*\"hard\" + 0.005*\"secret\"\n",
      "\n",
      "Topic 3    0.020*\"reward\" + 0.020*\"website\" + 0.016*\"button\" + 0.016*\"bacon\" + 0.016*\"click\" + 0.014*\"figure\" + 0.010*\"worked\" + 0.008*\"rib\" + 0.008*\"decision\" + 0.008*\"javascript\" + 0.008*\"clicked\" + 0.008*\"bandit\" + 0.008*\"size\" + 0.008*\"weaken\" + 0.008*\"ratio\" + 0.008*\"context\" + 0.006*\"python\" + 0.006*\"question\" + 0.006*\"remember\" + 0.006*\"post\" + 0.006*\"choose\" + 0.006*\"train\" + 0.006*\"chrome\" + 0.006*\"refresh\" + 0.006*\"randomly\"\n",
      "\n"
     ]
    }
   ],
   "source": [
    "# Create Dictionary\n",
    "data_ready=texts\n",
    "id2word = corpora.Dictionary(data_ready)\n",
    "\n",
    "# Create Corpus: Term Document Frequency\n",
    "corpus = [id2word.doc2bow(text) for text in data_ready]\n",
    "\n",
    "# Build LDA model\n",
    "ldamodel = gensim.models.ldamodel.LdaModel(corpus, num_topics = 4, id2word=id2word, passes=20)\n",
    "ldamodel.save('model5.gensim')\n",
    "topics = ldamodel.print_topics(num_words=25)\n",
    "for topic in topics:\n",
    "    print(\"Topic \"+ str(topic[0])+ \"    \"+topic[1]+\"\\n\")"
   ]
  },
  {
   "cell_type": "code",
   "execution_count": 27,
   "metadata": {},
   "outputs": [
    {
     "name": "stderr",
     "output_type": "stream",
     "text": [
      "F:\\Anaconda\\lib\\site-packages\\pyLDAvis\\_prepare.py:257: FutureWarning: Sorting because non-concatenation axis is not aligned. A future version\n",
      "of pandas will change to not sort by default.\n",
      "\n",
      "To accept the future behavior, pass 'sort=False'.\n",
      "\n",
      "To retain the current behavior and silence the warning, pass 'sort=True'.\n",
      "\n",
      "  return pd.concat([default_term_info] + list(topic_dfs))\n"
     ]
    },
    {
     "data": {
      "text/html": [
       "\n",
       "<link rel=\"stylesheet\" type=\"text/css\" href=\"https://cdn.rawgit.com/bmabey/pyLDAvis/files/ldavis.v1.0.0.css\">\n",
       "\n",
       "\n",
       "<div id=\"ldavis_el152569657996713688790456415\"></div>\n",
       "<script type=\"text/javascript\">\n",
       "\n",
       "var ldavis_el152569657996713688790456415_data = {\"mdsDat\": {\"x\": [-0.1344802979734166, 0.08356482366735202, 0.04027826675233706, 0.010637207553727483], \"y\": [0.021886596667182776, 0.09267699148617711, -0.12086557773945407, 0.0063019895860941515], \"topics\": [1, 2, 3, 4], \"cluster\": [1, 1, 1, 1], \"Freq\": [55.05242919921875, 16.10973358154297, 15.936504364013672, 12.901328086853027]}, \"tinfo\": {\"Category\": [\"Default\", \"Default\", \"Default\", \"Default\", \"Default\", \"Default\", \"Default\", \"Default\", \"Default\", \"Default\", \"Default\", \"Default\", \"Default\", \"Default\", \"Default\", \"Default\", \"Default\", \"Default\", \"Default\", \"Default\", \"Default\", \"Default\", \"Default\", \"Default\", \"Default\", \"Default\", \"Default\", \"Default\", \"Default\", \"Default\", \"Topic1\", \"Topic1\", \"Topic1\", \"Topic1\", \"Topic1\", \"Topic1\", \"Topic1\", \"Topic1\", \"Topic1\", \"Topic1\", \"Topic1\", \"Topic1\", \"Topic1\", \"Topic1\", \"Topic1\", \"Topic1\", \"Topic1\", \"Topic1\", \"Topic1\", \"Topic1\", \"Topic1\", \"Topic1\", \"Topic1\", \"Topic1\", \"Topic1\", \"Topic1\", \"Topic1\", \"Topic1\", \"Topic1\", \"Topic1\", \"Topic1\", \"Topic1\", \"Topic1\", \"Topic1\", \"Topic1\", \"Topic1\", \"Topic1\", \"Topic1\", \"Topic1\", \"Topic1\", \"Topic1\", \"Topic2\", \"Topic2\", \"Topic2\", \"Topic2\", \"Topic2\", \"Topic2\", \"Topic2\", \"Topic2\", \"Topic2\", \"Topic2\", \"Topic2\", \"Topic2\", \"Topic2\", \"Topic2\", \"Topic2\", \"Topic2\", \"Topic2\", \"Topic2\", \"Topic2\", \"Topic2\", \"Topic2\", \"Topic2\", \"Topic2\", \"Topic2\", \"Topic2\", \"Topic2\", \"Topic2\", \"Topic2\", \"Topic2\", \"Topic2\", \"Topic2\", \"Topic2\", \"Topic2\", \"Topic2\", \"Topic2\", \"Topic2\", \"Topic2\", \"Topic2\", \"Topic2\", \"Topic2\", \"Topic2\", \"Topic2\", \"Topic2\", \"Topic3\", \"Topic3\", \"Topic3\", \"Topic3\", \"Topic3\", \"Topic3\", \"Topic3\", \"Topic3\", \"Topic3\", \"Topic3\", \"Topic3\", \"Topic3\", \"Topic3\", \"Topic3\", \"Topic3\", \"Topic3\", \"Topic3\", \"Topic3\", \"Topic3\", \"Topic3\", \"Topic3\", \"Topic3\", \"Topic3\", \"Topic3\", \"Topic3\", \"Topic3\", \"Topic3\", \"Topic3\", \"Topic3\", \"Topic3\", \"Topic3\", \"Topic3\", \"Topic3\", \"Topic3\", \"Topic3\", \"Topic3\", \"Topic3\", \"Topic3\", \"Topic3\", \"Topic3\", \"Topic3\", \"Topic3\", \"Topic3\", \"Topic3\", \"Topic3\", \"Topic3\", \"Topic3\", \"Topic3\", \"Topic4\", \"Topic4\", \"Topic4\", \"Topic4\", \"Topic4\", \"Topic4\", \"Topic4\", \"Topic4\", \"Topic4\", \"Topic4\", \"Topic4\", \"Topic4\", \"Topic4\", \"Topic4\", \"Topic4\", \"Topic4\", \"Topic4\", \"Topic4\", \"Topic4\", \"Topic4\", \"Topic4\", \"Topic4\", \"Topic4\", \"Topic4\", \"Topic4\", \"Topic4\", \"Topic4\", \"Topic4\", \"Topic4\", \"Topic4\", \"Topic4\", \"Topic4\", \"Topic4\", \"Topic4\", \"Topic4\", \"Topic4\", \"Topic4\", \"Topic4\", \"Topic4\", \"Topic4\", \"Topic4\", \"Topic4\", \"Topic4\", \"Topic4\", \"Topic4\", \"Topic4\", \"Topic4\", \"Topic4\", \"Topic4\", \"Topic4\"], \"Freq\": [7.0, 6.0, 13.0, 7.0, 6.0, 5.0, 5.0, 9.0, 5.0, 3.0, 3.0, 3.0, 16.0, 7.0, 3.0, 4.0, 21.0, 2.0, 13.0, 3.0, 5.0, 5.0, 6.0, 2.0, 3.0, 2.0, 2.0, 2.0, 2.0, 2.0, 16.329761505126953, 13.104499816894531, 10.68542194366455, 9.071887969970703, 8.265790939331055, 6.653085708618164, 5.846655368804932, 5.846582889556885, 5.846523284912109, 5.846365928649902, 5.846273899078369, 5.846218109130859, 19.555917739868164, 5.040032386779785, 4.233724594116211, 4.233631134033203, 4.233627796173096, 4.233502388000488, 13.105382919311523, 3.4272491931915283, 3.4272496700286865, 3.427227735519409, 3.427215814590454, 3.4271798133850098, 3.4271674156188965, 3.42716121673584, 3.4271488189697266, 3.427138566970825, 2.6208949089050293, 2.6208457946777344, 5.040318012237549, 4.233743190765381, 4.233670711517334, 4.2336745262146, 4.233564853668213, 4.233704566955566, 4.233592987060547, 5.845632553100586, 4.233436107635498, 4.233060359954834, 4.233272075653076, 2.3381595611572266, 2.338141918182373, 2.3380203247070312, 2.3379876613616943, 2.3379950523376465, 5.641805648803711, 1.787908673286438, 1.7878764867782593, 1.7878824472427368, 1.787834644317627, 1.7878159284591675, 4.54102897644043, 1.2378202676773071, 1.237821102142334, 1.2377753257751465, 1.2377710342407227, 1.2377594709396362, 1.2377533912658691, 1.2377572059631348, 1.237754225730896, 1.2377328872680664, 1.2377268075942993, 1.2377182245254517, 1.2377201318740845, 1.2376629114151, 2.88820743560791, 4.539609432220459, 2.3392491340637207, 4.540995121002197, 2.338134527206421, 5.640722274780273, 3.9893243312835693, 1.7887945175170898, 1.7880197763442993, 2.338805913925171, 2.338517189025879, 1.7881922721862793, 1.788205862045288, 1.788429617881775, 1.7886697053909302, 1.788285732269287, 1.2386342287063599, 1.2383346557617188, 3.4220082759857178, 2.326972484588623, 1.7795616388320923, 1.7795201539993286, 1.7795276641845703, 1.7795064449310303, 1.7794808149337769, 1.2319971323013306, 1.2319978475570679, 1.2319928407669067, 1.2319772243499756, 1.2319748401641846, 1.2319718599319458, 1.2319709062576294, 1.231960415840149, 1.231948733329773, 1.2319456338882446, 1.2319365739822388, 1.2319313287734985, 1.2319127321243286, 1.2319120168685913, 0.684459388256073, 0.6844579577445984, 0.684447169303894, 0.6844433546066284, 0.6844427585601807, 0.6844399571418762, 0.6844373345375061, 0.6844400763511658, 0.6844410300254822, 1.7802516222000122, 1.779679775238037, 1.2320424318313599, 1.7797422409057617, 1.779991626739502, 1.232421875, 1.2320222854614258, 1.2320199012756348, 2.327371120452881, 1.7798962593078613, 1.2328829765319824, 1.2325016260147095, 1.232278823852539, 1.2322663068771362, 1.232149362564087, 1.232108235359192, 1.2320269346237183, 1.2319873571395874, 3.092684507369995, 3.092567205429077, 2.597683906555176, 2.1029884815216064, 5.56776237487793, 1.1133766174316406, 1.11337411403656, 1.1133744716644287, 1.1133668422698975, 1.1133524179458618, 1.1133415699005127, 1.1133301258087158, 1.1133112907409668, 0.6185446381568909, 0.6185365915298462, 0.6185348629951477, 0.6185340285301208, 0.6185341477394104, 0.6185322403907776, 0.618529736995697, 0.6185302734375, 0.6185286641120911, 0.6185277700424194, 0.6185277700424194, 0.6185258626937866, 0.618526816368103, 0.6185262203216553, 0.6185253858566284, 0.618525505065918, 0.6185251474380493, 3.0933916568756104, 1.6082504987716675, 3.09329891204834, 1.113464593887329, 1.6086221933364868, 1.1137878894805908, 1.1133800745010376, 1.1133416891098022, 2.5986552238464355, 1.113610863685608, 2.1038646697998047, 1.1133992671966553, 2.104480504989624, 1.1138406991958618, 1.1137465238571167, 1.1134628057479858, 1.1141653060913086, 1.1139652729034424, 1.113945722579956, 1.1135883331298828], \"Term\": [\"test\", \"reward\", \"website\", \"bacon\", \"click\", \"button\", \"change\", \"figure\", \"choice\", \"host\", \"local\", \"presentation\", \"class\", \"a.b.\", \"showing\", \"worked\", \"docker\", \"install\", \"response\", \"size\", \"decision\", \"javascript\", \"fine\", \"combine\", \"rib\", \"clicked\", \"bandit\", \"weaken\", \"ratio\", \"context\", \"class\", \"response\", \"correct\", \"grab\", \"splash\", \"watchman\", \"tomorrow\", \"note\", \"title\", \"shell\", \"attribute\", \"product\", \"docker\", \"dave\", \"connect\", \"multiple\", \"beautiful\", \"slash\", \"year\", \"scrapie\", \"morning\", \"doctor\", \"output\", \"passing\", \"reason\", \"express\", \"latest\", \"flash\", \"creepy\", \"expert\", \"common\", \"pretty\", \"thinking\", \"called\", \"group\", \"court\", \"cool\", \"website\", \"fine\", \"a.b.\", \"code\", \"clicked\", \"bandit\", \"weaken\", \"context\", \"ratio\", \"reward\", \"refresh\", \"variant\", \"randomly\", \"random\", \"serve\", \"button\", \"measure\", \"spent\", \"training\", \"gather\", \"launchpad\", \"pushed\", \"embed\", \"custom\", \"understood\", \"offline\", \"measuring\", \"wordpress\", \"online\", \"worked\", \"click\", \"rib\", \"bacon\", \"size\", \"website\", \"figure\", \"python\", \"chrome\", \"decision\", \"javascript\", \"train\", \"choose\", \"remember\", \"question\", \"post\", \"code\", \"tool\", \"presentation\", \"combine\", \"francis\", \"creating\", \"loaded\", \"team\", \"needed\", \"combined\", \"moving\", \"respective\", \"thesis\", \"packing\", \"fortunately\", \"area\", \"task\", \"large\", \"upload\", \"match\", \"bunch\", \"member\", \"totally\", \"forgot\", \"sign\", \"latent\", \"morgan\", \"referred\", \"dealing\", \"result\", \"form\", \"starchild\", \"hear\", \"fellowship\", \"food\", \"living\", \"people\", \"score\", \"save\", \"finish\", \"fine\", \"issue\", \"docker\", \"code\", \"court\", \"wanted\", \"wanna\", \"absolutely\", \"size\", \"shock\", \"host\", \"local\", \"showing\", \"install\", \"test\", \"secret\", \"accept\", \"jealous\", \"display\", \"client\", \"installed\", \"left\", \"variation\", \"pure\", \"starting\", \"channel\", \"horse\", \"worse\", \"statistic\", \"police\", \"chalice\", \"hole\", \"throw\", \"optimus\", \"block\", \"special\", \"blue\", \"tough\", \"flip\", \"mentally\", \"choice\", \"figured\", \"change\", \"knowing\", \"supposed\", \"optimize\", \"hard\", \"error\", \"a.b.\", \"google\", \"figure\", \"street\", \"website\", \"provide\", \"remember\", \"close\", \"decision\", \"code\", \"javascript\", \"cool\"], \"Total\": [7.0, 6.0, 13.0, 7.0, 6.0, 5.0, 5.0, 9.0, 5.0, 3.0, 3.0, 3.0, 16.0, 7.0, 3.0, 4.0, 21.0, 2.0, 13.0, 3.0, 5.0, 5.0, 6.0, 2.0, 3.0, 2.0, 2.0, 2.0, 2.0, 2.0, 16.73114776611328, 13.504998207092285, 11.08533763885498, 9.471978187561035, 8.665508270263672, 7.052412986755371, 6.245837688446045, 6.245809555053711, 6.24579381942749, 6.2457356452941895, 6.24571418762207, 6.245689868927002, 21.05292510986328, 5.439196586608887, 4.632668495178223, 4.632635593414307, 4.632634162902832, 4.632595539093018, 14.547867774963379, 3.826073408126831, 3.826078176498413, 3.8260672092437744, 3.8260631561279297, 3.8260486125946045, 3.8260509967803955, 3.8260490894317627, 3.826040744781494, 3.8260412216186523, 3.019526720046997, 3.01951003074646, 5.986953258514404, 5.127607345581055, 5.1803083419799805, 5.182910442352295, 5.675189971923828, 5.728023529052734, 6.1728034019470215, 13.728475570678711, 6.82333517074585, 7.654849052429199, 7.81837272644043, 2.8011858463287354, 2.80119252204895, 2.801168203353882, 2.8011443614959717, 2.8011677265167236, 6.908003330230713, 2.2508392333984375, 2.2508273124694824, 2.2508437633514404, 2.250825881958008, 2.250838279724121, 5.807707786560059, 1.7005207538604736, 1.7005270719528198, 1.7005184888839722, 1.7005130052566528, 1.7005172967910767, 1.7005115747451782, 1.7005236148834229, 1.7005228996276855, 1.70050847530365, 1.7005128860473633, 1.7005090713500977, 1.7005228996276855, 1.7005064487457275, 4.157841682434082, 6.614858150482178, 3.6070046424865723, 7.421042442321777, 3.8965659141540527, 13.728475570678711, 9.658166885375977, 3.0568466186523438, 3.057248115539551, 5.40369987487793, 5.404051780700684, 3.863668918609619, 3.8638386726379395, 4.047110080718994, 4.358510494232178, 5.165401458740234, 7.81837272644043, 3.313255548477173, 3.886202812194824, 2.7907514572143555, 2.2430319786071777, 2.2430214881896973, 2.243035078048706, 2.2430260181427, 2.2430191040039062, 1.6952985525131226, 1.695307731628418, 1.69530189037323, 1.695298194885254, 1.6953009366989136, 1.695302963256836, 1.695306420326233, 1.6953060626983643, 1.6953004598617554, 1.6953120231628418, 1.6953061819076538, 1.6953098773956299, 1.6953070163726807, 1.695311188697815, 1.147584080696106, 1.1475849151611328, 1.1475809812545776, 1.1475825309753418, 1.1475834846496582, 1.1475825309753418, 1.1475791931152344, 1.1475844383239746, 1.147587537765503, 3.0491232872009277, 3.3436341285705566, 2.2455790042877197, 3.599682092666626, 3.8558521270751953, 2.501535654067993, 2.5017001628875732, 2.5017051696777344, 6.82333517074585, 5.451575756072998, 21.05292510986328, 7.81837272644043, 5.728023529052734, 4.921443462371826, 2.996652603149414, 3.3082849979400635, 3.8965659141540527, 2.795897960662842, 3.5697038173675537, 3.569722890853882, 3.0747549533843994, 2.5797698497772217, 7.948711395263672, 1.58982253074646, 1.589821457862854, 1.5898256301879883, 1.5898243188858032, 1.5898244380950928, 1.5898253917694092, 1.5898269414901733, 1.5898300409317017, 1.0948455333709717, 1.094845175743103, 1.0948466062545776, 1.0948455333709717, 1.094848871231079, 1.0948476791381836, 1.094847559928894, 1.094848871231079, 1.094848871231079, 1.0948481559753418, 1.094848871231079, 1.0948472023010254, 1.0948492288589478, 1.0948482751846313, 1.094847321510315, 1.094848394393921, 1.0948481559753418, 5.476591110229492, 2.8911781311035156, 5.988985538482666, 2.1374993324279785, 3.6976089477539062, 2.39597225189209, 2.3962364196777344, 2.396209955215454, 7.654849052429199, 2.94649076461792, 9.658166885375977, 3.20283842086792, 13.728475570678711, 4.009194374084473, 4.047110080718994, 4.815942764282227, 5.40369987487793, 7.81837272644043, 5.404051780700684, 6.1728034019470215], \"loglift\": [30.0, 29.0, 28.0, 27.0, 26.0, 25.0, 24.0, 23.0, 22.0, 21.0, 20.0, 19.0, 18.0, 17.0, 16.0, 15.0, 14.0, 13.0, 12.0, 11.0, 10.0, 9.0, 8.0, 7.0, 6.0, 5.0, 4.0, 3.0, 2.0, 1.0, 0.5726000070571899, 0.5667999982833862, 0.5601000189781189, 0.5536999702453613, 0.5497000217437744, 0.5386000275611877, 0.5307999849319458, 0.5307999849319458, 0.5307999849319458, 0.5307999849319458, 0.5307999849319458, 0.5307999849319458, 0.5231000185012817, 0.5206999778747559, 0.5067999958992004, 0.5067999958992004, 0.5067999958992004, 0.5067999958992004, 0.4925000071525574, 0.4867999851703644, 0.4867999851703644, 0.4867999851703644, 0.4867999851703644, 0.4867999851703644, 0.4867999851703644, 0.4867999851703644, 0.4867999851703644, 0.4867999851703644, 0.4553000032901764, 0.4553000032901764, 0.42480000853538513, 0.40529999136924744, 0.3950999975204468, 0.3946000039577484, 0.30379998683929443, 0.2946000099182129, 0.21979999542236328, -0.25690001249313354, 0.11949999630451202, 0.0044999998062849045, -0.016599999740719795, 1.6450999975204468, 1.6450999975204468, 1.6449999809265137, 1.6449999809265137, 1.6449999809265137, 1.6232999563217163, 1.5954999923706055, 1.5954999923706055, 1.5954999923706055, 1.5954999923706055, 1.5953999757766724, 1.579699993133545, 1.5082000494003296, 1.5082000494003296, 1.5081000328063965, 1.5081000328063965, 1.5081000328063965, 1.5081000328063965, 1.5081000328063965, 1.5081000328063965, 1.5081000328063965, 1.5081000328063965, 1.5081000328063965, 1.5081000328063965, 1.5080000162124634, 1.461400032043457, 1.4493000507354736, 1.392699956893921, 1.3345999717712402, 1.315000057220459, 0.9362999796867371, 0.9416000247001648, 1.2898999452590942, 1.2892999649047852, 0.9883000254631042, 0.988099992275238, 1.055299997329712, 1.055299997329712, 1.0090999603271484, 0.9351000189781189, 0.7649999856948853, -0.016699999570846558, 0.8416000008583069, 1.7094000577926636, 1.6548000574111938, 1.6051000356674194, 1.6051000356674194, 1.6051000356674194, 1.6051000356674194, 1.6051000356674194, 1.517300009727478, 1.517300009727478, 1.517300009727478, 1.517300009727478, 1.517300009727478, 1.517300009727478, 1.517300009727478, 1.517300009727478, 1.517300009727478, 1.517300009727478, 1.517300009727478, 1.517300009727478, 1.517300009727478, 1.517300009727478, 1.3198000192642212, 1.3198000192642212, 1.3198000192642212, 1.3198000192642212, 1.319700002670288, 1.319700002670288, 1.319700002670288, 1.319700002670288, 1.319700002670288, 1.2984999418258667, 1.205899953842163, 1.236299991607666, 1.132200002670288, 1.063599944114685, 1.128600001335144, 1.1282000541687012, 1.1282000541687012, 0.7609000205993652, 0.717199981212616, -1.001099944114685, -0.010900000110268593, 0.3000999987125397, 0.45179998874664307, 0.9477999806404114, 0.8489000201225281, 0.6851000189781189, 1.0169999599456787, 1.9043999910354614, 1.9043999910354614, 1.8791999816894531, 1.843500018119812, 1.6917999982833862, 1.69159996509552, 1.69159996509552, 1.69159996509552, 1.69159996509552, 1.69159996509552, 1.69159996509552, 1.69159996509552, 1.69159996509552, 1.4767999649047852, 1.4767999649047852, 1.4767999649047852, 1.4767999649047852, 1.4767999649047852, 1.4767999649047852, 1.4767999649047852, 1.4767999649047852, 1.4767999649047852, 1.4767999649047852, 1.4767999649047852, 1.4767999649047852, 1.4767999649047852, 1.4767999649047852, 1.4767999649047852, 1.4767999649047852, 1.4767999649047852, 1.4766000509262085, 1.461300015449524, 1.3871999979019165, 1.3956999778747559, 1.215499997138977, 1.2818000316619873, 1.2812999486923218, 1.2812999486923218, 0.9674999713897705, 1.0748000144958496, 0.5238000154495239, 0.9911999702453613, 0.17239999771118164, 0.7670999765396118, 0.7576000094413757, 0.5834000110626221, 0.46889999508857727, 0.09929999709129333, 0.46860000491142273, 0.3352999985218048], \"logprob\": [30.0, 29.0, 28.0, 27.0, 26.0, 25.0, 24.0, 23.0, 22.0, 21.0, 20.0, 19.0, 18.0, 17.0, 16.0, 15.0, 14.0, 13.0, 12.0, 11.0, 10.0, 9.0, 8.0, 7.0, 6.0, 5.0, 4.0, 3.0, 2.0, 1.0, -4.075200080871582, -4.295199871063232, -4.499300003051758, -4.663000106811523, -4.756100177764893, -4.973100185394287, -5.10230016708374, -5.10230016708374, -5.102399826049805, -5.102399826049805, -5.102399826049805, -5.102399826049805, -3.89490008354187, -5.250800132751465, -5.425099849700928, -5.425099849700928, -5.425099849700928, -5.42519998550415, -4.295199871063232, -5.63640022277832, -5.63640022277832, -5.63640022277832, -5.636499881744385, -5.636499881744385, -5.636499881744385, -5.636499881744385, -5.636499881744385, -5.636499881744385, -5.904699802398682, -5.904699802398682, -5.250699996948242, -5.425099849700928, -5.425099849700928, -5.425099849700928, -5.42519998550415, -5.425099849700928, -5.425099849700928, -5.102499961853027, -5.42519998550415, -5.425300121307373, -5.42519998550415, -4.789999961853027, -4.789999961853027, -4.789999961853027, -4.789999961853027, -4.789999961853027, -3.90910005569458, -5.058300018310547, -5.058300018310547, -5.058300018310547, -5.058300018310547, -5.058300018310547, -4.126200199127197, -5.426000118255615, -5.426000118255615, -5.426000118255615, -5.426000118255615, -5.426000118255615, -5.426000118255615, -5.426000118255615, -5.426000118255615, -5.42609977722168, -5.42609977722168, -5.42609977722168, -5.42609977722168, -5.42609977722168, -4.578700065612793, -4.126500129699707, -4.7895002365112305, -4.126200199127197, -4.789999961853027, -3.9093000888824463, -4.25570011138916, -5.057799816131592, -5.058199882507324, -4.789700031280518, -4.78980016708374, -5.05810022354126, -5.05810022354126, -5.058000087738037, -5.0578999519348145, -5.05810022354126, -5.425300121307373, -5.425600051879883, -4.3983001708984375, -4.783999919891357, -5.052199840545654, -5.052199840545654, -5.052199840545654, -5.052199840545654, -5.052199840545654, -5.419899940490723, -5.419899940490723, -5.419899940490723, -5.419899940490723, -5.419899940490723, -5.419899940490723, -5.419899940490723, -5.419899940490723, -5.419899940490723, -5.419899940490723, -5.419899940490723, -5.419899940490723, -5.420000076293945, -5.420000076293945, -6.007699966430664, -6.007699966430664, -6.007699966430664, -6.007699966430664, -6.007699966430664, -6.007699966430664, -6.007699966430664, -6.007699966430664, -6.007699966430664, -5.051799774169922, -5.05210018157959, -5.419899940490723, -5.05210018157959, -5.0518999099731445, -5.41949987411499, -5.419899940490723, -5.419899940490723, -4.78380012512207, -5.052000045776367, -5.4191999435424805, -5.41949987411499, -5.4197001457214355, -5.4197001457214355, -5.4197998046875, -5.4197998046875, -5.419899940490723, -5.419899940490723, -4.2881999015808105, -4.2881999015808105, -4.462600231170654, -4.673900127410889, -3.700200080871582, -5.309800148010254, -5.309800148010254, -5.309800148010254, -5.309899806976318, -5.309899806976318, -5.309899806976318, -5.309899806976318, -5.309899806976318, -5.897600173950195, -5.897600173950195, -5.897600173950195, -5.897600173950195, -5.897600173950195, -5.897600173950195, -5.89769983291626, -5.89769983291626, -5.89769983291626, -5.89769983291626, -5.89769983291626, -5.89769983291626, -5.89769983291626, -5.89769983291626, -5.89769983291626, -5.89769983291626, -5.89769983291626, -4.288000106811523, -4.9421000480651855, -4.288000106811523, -5.309800148010254, -4.94189977645874, -5.309500217437744, -5.309800148010254, -5.309899806976318, -4.462200164794922, -5.309599876403809, -4.673500061035156, -5.309800148010254, -4.6732001304626465, -5.3094000816345215, -5.309500217437744, -5.309800148010254, -5.309100151062012, -5.309299945831299, -5.309299945831299, -5.309700012207031]}, \"token.table\": {\"Topic\": [1, 3, 4, 1, 3, 4, 3, 1, 1, 2, 2, 1, 4, 4, 3, 1, 2, 1, 2, 4, 1, 4, 4, 1, 2, 4, 1, 2, 1, 2, 1, 1, 2, 2, 4, 1, 4, 1, 2, 3, 4, 3, 3, 1, 3, 1, 2, 1, 2, 4, 1, 1, 3, 3, 1, 2, 1, 3, 1, 2, 4, 4, 1, 3, 1, 2, 1, 4, 1, 1, 2, 3, 1, 2, 4, 1, 4, 1, 3, 1, 3, 1, 4, 2, 3, 3, 3, 3, 3, 2, 1, 2, 4, 1, 1, 3, 4, 1, 4, 1, 3, 4, 4, 4, 4, 4, 1, 2, 3, 4, 1, 2, 4, 4, 3, 4, 3, 3, 1, 2, 4, 1, 2, 3, 3, 4, 3, 2, 2, 3, 4, 3, 1, 3, 1, 3, 1, 2, 2, 1, 4, 4, 1, 3, 1, 1, 3, 4, 1, 2, 4, 3, 1, 4, 1, 1, 4, 4, 2, 1, 2, 1, 2, 4, 2, 2, 2, 1, 3, 2, 1, 2, 4, 3, 1, 3, 1, 2, 1, 2, 1, 3, 1, 3, 1, 4, 2, 1, 2, 3, 4, 3, 2, 3, 1, 4, 2, 1, 3, 4, 4, 1, 4, 1, 4, 3, 3, 1, 2, 3, 4, 3, 1, 3, 4, 1, 1, 1, 2, 3, 4, 1, 2, 2, 2, 3, 2, 4, 1, 3, 4, 1, 3, 1, 2, 1, 2, 4, 2, 1, 2, 4, 1, 3, 4], \"Freq\": [0.5225446224212646, 0.13063615560531616, 0.3919084370136261, 0.6045428514480591, 0.30227142572402954, 0.6290014386177063, 0.5898638367652893, 0.9606587290763855, 0.40425586700439453, 0.6737598180770874, 0.7139816284179688, 0.8634396195411682, 0.9133694767951965, 0.9133685827255249, 0.5898626446723938, 0.17218497395515442, 0.8609248399734497, 0.7717671394348145, 0.1929417848587036, 0.9133680462837219, 0.5009195804595947, 0.5009195804595947, 0.9133699536323547, 0.18259534239768982, 0.18259534239768982, 0.5477859973907471, 0.5176199674606323, 0.5176199674606323, 0.3270915448665619, 0.6541830897331238, 0.9563001990318298, 0.30234965682029724, 0.7558740973472595, 0.7139833569526672, 0.6290002465248108, 0.6229310035705566, 0.20764365792274475, 0.5116153955459595, 0.12790384888648987, 0.12790384888648987, 0.12790384888648987, 0.7166528701782227, 0.589866578578949, 0.835149347782135, 0.16702987253665924, 0.8634332418441772, 0.7139939069747925, 0.6480038166046143, 0.16200095415115356, 0.16200095415115356, 0.9923017621040344, 0.6983211636543274, 0.17458029091358185, 0.8916544318199158, 0.993533194065094, 0.5880544185638428, 0.919253408908844, 0.8713970184326172, 0.3701167702674866, 0.3701167702674866, 0.1850583851337433, 0.6290003061294556, 0.9499867558479309, 0.047499336302280426, 0.7840949296951294, 0.5880541801452637, 0.4173257052898407, 0.4173257052898407, 0.9935386776924133, 0.7840986847877502, 0.29907578229904175, 0.5981515645980835, 0.31061795353889465, 0.41415727138519287, 0.20707863569259644, 0.34587976336479187, 0.6917595267295837, 0.5862236022949219, 0.29311180114746094, 0.39972734451293945, 0.39972734451293945, 0.7841002941131592, 0.9133684635162354, 0.44531944394111633, 0.44531944394111633, 0.8713958263397217, 0.8713955879211426, 0.5898650884628296, 0.8916502594947815, 0.588057816028595, 0.3393867611885071, 0.3393867611885071, 0.3393867611885071, 0.9501711130142212, 0.7048222422599792, 0.1762055605649948, 0.1762055605649948, 0.4173210859298706, 0.4173210859298706, 0.32796311378479004, 0.6559262275695801, 0.9133680462837219, 0.9133708477020264, 0.8404058814048767, 0.7752629518508911, 0.6289998888969421, 0.36686640977859497, 0.18343320488929749, 0.36686640977859497, 0.18343320488929749, 0.3700926899909973, 0.3700926899909973, 0.18504634499549866, 0.6289997696876526, 0.4678364098072052, 0.4678364098072052, 0.5898659229278564, 0.8713982105255127, 0.784100353717804, 0.5880563259124756, 0.6289992928504944, 0.27780231833457947, 0.27780231833457947, 0.5556046366691589, 0.8916490077972412, 0.8404013514518738, 0.5898639559745789, 0.5880551338195801, 0.5880591869354248, 0.589863657951355, 0.9133686423301697, 0.8713970184326172, 0.7840927243232727, 0.5898634195327759, 0.8634393811225891, 0.8916553854942322, 0.9606440663337708, 0.5880578756332397, 0.5880600810050964, 0.4173671007156372, 0.4173671007156372, 0.9133680462837219, 0.7840957641601562, 0.5898658037185669, 0.784098744392395, 0.5186920762062073, 0.5186920762062073, 0.9133691787719727, 0.5807873606681824, 0.3871915936470032, 0.1935957968235016, 0.7719617486000061, 0.7800909280776978, 0.19502273201942444, 0.9606624841690063, 0.7482799887657166, 0.24942666292190552, 0.9133708477020264, 0.588058352470398, 0.32713449001312256, 0.6542689800262451, 0.45887234807014465, 0.45887234807014465, 0.22943617403507233, 0.8885627388954163, 0.888555645942688, 0.7139879465103149, 0.7840982675552368, 0.8713963031768799, 0.8885574340820312, 0.24708989262580872, 0.49417978525161743, 0.24708989262580872, 0.5898654460906982, 0.9626065492630005, 0.8713995814323425, 0.1447596251964569, 0.8685577511787415, 0.2772383391857147, 0.5544766783714294, 0.3997281491756439, 0.3997281491756439, 0.39975443482398987, 0.39975443482398987, 0.7840936779975891, 0.6290010213851929, 0.8885578513145447, 0.9606554508209229, 0.35766685009002686, 0.35766685009002686, 0.9756875038146973, 0.8713952302932739, 0.5132724642753601, 0.25663623213768005, 0.863446831703186, 0.913367748260498, 0.5880529880523682, 0.9232003092765808, 0.8713932037353516, 0.9133711457252502, 0.9133690595626831, 0.6244460940361023, 0.31222304701805115, 0.540890097618103, 0.540890097618103, 0.5898640155792236, 0.8916525840759277, 0.1258065551519394, 0.1258065551519394, 0.1258065551519394, 0.7548393607139587, 0.5898667573928833, 0.7721548080444336, 0.1930387020111084, 0.9133686423301697, 0.9606465101242065, 0.9606397747993469, 0.6036359071731567, 0.30181795358657837, 0.5898622274398804, 0.913369357585907, 0.5176426768302917, 0.5176426768302917, 0.5880559682846069, 0.5880594253540039, 0.5898619294166565, 0.8885621428489685, 0.6289980411529541, 0.33370569348335266, 0.33370569348335266, 0.33370569348335266, 0.6095772385597229, 0.20319241285324097, 0.9925680756568909, 0.7139878273010254, 0.4370478093624115, 0.4370478093624115, 0.14568260312080383, 0.5880544185638428, 0.24050939083099365, 0.721528172492981, 0.9133680462837219, 0.8936017155647278, 0.06873859465122223, 0.06873859465122223], \"Term\": [\"a.b.\", \"a.b.\", \"a.b.\", \"absolutely\", \"absolutely\", \"accept\", \"area\", \"attribute\", \"bacon\", \"bacon\", \"bandit\", \"beautiful\", \"block\", \"blue\", \"bunch\", \"button\", \"button\", \"called\", \"called\", \"chalice\", \"change\", \"change\", \"channel\", \"choice\", \"choice\", \"choice\", \"choose\", \"choose\", \"chrome\", \"chrome\", \"class\", \"click\", \"click\", \"clicked\", \"client\", \"close\", \"close\", \"code\", \"code\", \"code\", \"code\", \"combine\", \"combined\", \"common\", \"common\", \"connect\", \"context\", \"cool\", \"cool\", \"cool\", \"correct\", \"court\", \"court\", \"creating\", \"creepy\", \"custom\", \"dave\", \"dealing\", \"decision\", \"decision\", \"decision\", \"display\", \"docker\", \"docker\", \"doctor\", \"embed\", \"error\", \"error\", \"expert\", \"express\", \"fellowship\", \"fellowship\", \"figure\", \"figure\", \"figure\", \"figured\", \"figured\", \"fine\", \"fine\", \"finish\", \"finish\", \"flash\", \"flip\", \"food\", \"food\", \"forgot\", \"form\", \"fortunately\", \"francis\", \"gather\", \"google\", \"google\", \"google\", \"grab\", \"group\", \"group\", \"group\", \"hard\", \"hard\", \"hear\", \"hear\", \"hole\", \"horse\", \"host\", \"install\", \"installed\", \"issue\", \"issue\", \"issue\", \"issue\", \"javascript\", \"javascript\", \"javascript\", \"jealous\", \"knowing\", \"knowing\", \"large\", \"latent\", \"latest\", \"launchpad\", \"left\", \"living\", \"living\", \"living\", \"loaded\", \"local\", \"match\", \"measure\", \"measuring\", \"member\", \"mentally\", \"morgan\", \"morning\", \"moving\", \"multiple\", \"needed\", \"note\", \"offline\", \"online\", \"optimize\", \"optimize\", \"optimus\", \"output\", \"packing\", \"passing\", \"people\", \"people\", \"police\", \"post\", \"post\", \"post\", \"presentation\", \"pretty\", \"pretty\", \"product\", \"provide\", \"provide\", \"pure\", \"pushed\", \"python\", \"python\", \"question\", \"question\", \"question\", \"random\", \"randomly\", \"ratio\", \"reason\", \"referred\", \"refresh\", \"remember\", \"remember\", \"remember\", \"respective\", \"response\", \"result\", \"reward\", \"reward\", \"rib\", \"rib\", \"save\", \"save\", \"score\", \"score\", \"scrapie\", \"secret\", \"serve\", \"shell\", \"shock\", \"shock\", \"showing\", \"sign\", \"size\", \"size\", \"slash\", \"special\", \"spent\", \"splash\", \"starchild\", \"starting\", \"statistic\", \"street\", \"street\", \"supposed\", \"supposed\", \"task\", \"team\", \"test\", \"test\", \"test\", \"test\", \"thesis\", \"thinking\", \"thinking\", \"throw\", \"title\", \"tomorrow\", \"tool\", \"tool\", \"totally\", \"tough\", \"train\", \"train\", \"training\", \"understood\", \"upload\", \"variant\", \"variation\", \"wanna\", \"wanna\", \"wanna\", \"wanted\", \"wanted\", \"watchman\", \"weaken\", \"website\", \"website\", \"website\", \"wordpress\", \"worked\", \"worked\", \"worse\", \"year\", \"year\", \"year\"]}, \"R\": 30, \"lambda.step\": 0.01, \"plot.opts\": {\"xlab\": \"PC1\", \"ylab\": \"PC2\"}, \"topic.order\": [2, 4, 1, 3]};\n",
       "\n",
       "function LDAvis_load_lib(url, callback){\n",
       "  var s = document.createElement('script');\n",
       "  s.src = url;\n",
       "  s.async = true;\n",
       "  s.onreadystatechange = s.onload = callback;\n",
       "  s.onerror = function(){console.warn(\"failed to load library \" + url);};\n",
       "  document.getElementsByTagName(\"head\")[0].appendChild(s);\n",
       "}\n",
       "\n",
       "if(typeof(LDAvis) !== \"undefined\"){\n",
       "   // already loaded: just create the visualization\n",
       "   !function(LDAvis){\n",
       "       new LDAvis(\"#\" + \"ldavis_el152569657996713688790456415\", ldavis_el152569657996713688790456415_data);\n",
       "   }(LDAvis);\n",
       "}else if(typeof define === \"function\" && define.amd){\n",
       "   // require.js is available: use it to load d3/LDAvis\n",
       "   require.config({paths: {d3: \"https://cdnjs.cloudflare.com/ajax/libs/d3/3.5.5/d3.min\"}});\n",
       "   require([\"d3\"], function(d3){\n",
       "      window.d3 = d3;\n",
       "      LDAvis_load_lib(\"https://cdn.rawgit.com/bmabey/pyLDAvis/files/ldavis.v1.0.0.js\", function(){\n",
       "        new LDAvis(\"#\" + \"ldavis_el152569657996713688790456415\", ldavis_el152569657996713688790456415_data);\n",
       "      });\n",
       "    });\n",
       "}else{\n",
       "    // require.js not available: dynamically load d3 & LDAvis\n",
       "    LDAvis_load_lib(\"https://cdnjs.cloudflare.com/ajax/libs/d3/3.5.5/d3.min.js\", function(){\n",
       "         LDAvis_load_lib(\"https://cdn.rawgit.com/bmabey/pyLDAvis/files/ldavis.v1.0.0.js\", function(){\n",
       "                 new LDAvis(\"#\" + \"ldavis_el152569657996713688790456415\", ldavis_el152569657996713688790456415_data);\n",
       "            })\n",
       "         });\n",
       "}\n",
       "</script>"
      ],
      "text/plain": [
       "PreparedData(topic_coordinates=              x         y  topics  cluster       Freq\n",
       "topic                                                \n",
       "1     -0.134480  0.021887       1        1  55.052429\n",
       "3      0.083565  0.092677       2        1  16.109734\n",
       "0      0.040278 -0.120866       3        1  15.936504\n",
       "2      0.010637  0.006302       4        1  12.901328, topic_info=    Category       Freq        Term      Total  loglift  logprob\n",
       "196  Default   7.000000        test   7.000000  30.0000  30.0000\n",
       "275  Default   6.000000      reward   6.000000  29.0000  29.0000\n",
       "296  Default  13.000000     website  13.000000  28.0000  28.0000\n",
       "223  Default   7.000000       bacon   7.000000  27.0000  27.0000\n",
       "231  Default   6.000000       click   6.000000  26.0000  26.0000\n",
       "..       ...        ...         ...        ...      ...      ...\n",
       "316   Topic4   1.113463       close   4.815943   0.5834  -5.3098\n",
       "235   Topic4   1.114165    decision   5.403700   0.4689  -5.3091\n",
       "37    Topic4   1.113965        code   7.818373   0.0993  -5.3093\n",
       "363   Topic4   1.113946  javascript   5.404052   0.4686  -5.3093\n",
       "234   Topic4   1.113588        cool   6.172803   0.3353  -5.3097\n",
       "\n",
       "[212 rows x 6 columns], token_table=      Topic      Freq        Term\n",
       "term                             \n",
       "0         1  0.522545        a.b.\n",
       "0         3  0.130636        a.b.\n",
       "0         4  0.391908        a.b.\n",
       "1         1  0.604543  absolutely\n",
       "1         3  0.302271  absolutely\n",
       "...     ...       ...         ...\n",
       "525       2  0.721528      worked\n",
       "416       4  0.913368       worse\n",
       "218       1  0.893602        year\n",
       "218       3  0.068739        year\n",
       "218       4  0.068739        year\n",
       "\n",
       "[245 rows x 3 columns], R=30, lambda_step=0.01, plot_opts={'xlab': 'PC1', 'ylab': 'PC2'}, topic_order=[2, 4, 1, 3])"
      ]
     },
     "execution_count": 27,
     "metadata": {},
     "output_type": "execute_result"
    }
   ],
   "source": [
    "import pyLDAvis.gensim\n",
    "pyLDAvis.enable_notebook()\n",
    "vis = pyLDAvis.gensim.prepare(ldamodel, corpus, dictionary=ldamodel.id2word)\n",
    "vis"
   ]
  },
  {
   "cell_type": "code",
   "execution_count": null,
   "metadata": {},
   "outputs": [],
   "source": []
  },
  {
   "cell_type": "code",
   "execution_count": 16,
   "metadata": {},
   "outputs": [],
   "source": [
    "test_docs=[]\n",
    "str2=[]\n",
    "for file_name in glob.iglob('C://Users//Dell Inspiron//Downloads//test_trans//*', recursive=True): \n",
    "    with open(file_name) as f:\n",
    "        test_cont_org=''\n",
    "        for line in f.readlines():\n",
    "            name=line.split(':')\n",
    "#             print(name[1])\n",
    "            test_cont_org=dict_cont_org+name[1]\n",
    "        test_docs.append(dict_cont_org)"
   ]
  },
  {
   "cell_type": "code",
   "execution_count": 17,
   "metadata": {},
   "outputs": [],
   "source": [
    "for i in test_docs:\n",
    "    i=i.replace(\"\\n\",\" \")"
   ]
  },
  {
   "cell_type": "code",
   "execution_count": 28,
   "metadata": {},
   "outputs": [
    {
     "name": "stdout",
     "output_type": "stream",
     "text": [
      "['grab', 'perfect', 'small', 'doubt', 'connor', 'parsing', 'parse', 'parsing', 'grease', 'parcel', 'adapt', 'called', 'asked', 'order', 'political', 'dave', 'ally', 'iptv', 'complete', 'city', 'beautifui', 'specification', 'choose', 'class', 'unique', 'search', 'easily', 'close', 'money', 'closer', 'belittle', 'clothes', 'clothes', 'diarrhea', 'album', 'scenting', 'ray', 'finale', 'fierce', 'girl', 'string', 'box', 'kenny', 'left', 'spro', 'offiah', 'screw', 'distinct', 'tube', 'class', 'early', 'light', 'expected', 'future', 'blah', 'blah', 'bull', 'material', 'fitting', 'rising', 'list', 'jealous', 'scrapped', 'trip', 'channel', 'coming', 'month', 'saudi', 'thes', 'tour', 'essentially', 'weapon', 'ignore', 'life', 'swiss', 'unique', 'year', 'early', 'gravel', 'elba', 'grabbing', 'care', 'grab', 'essentially', 'deal', 'object', 'mark', 'wright', 'object', 'element', 'release', 'object', 'correspondent', 'object', 'material', 'skipping', 'size', 'position', 'dark', 'place', 'position', 'district', 'straight', 'watteau', 'position', 'position', 'pas', 'selig', 'passed', 'class', 'class', 'm.l.', 'knew', 'save', 'stack', 'indexed', 'material', 'tack', 'favor', 'talk', 'company', 'letter', 'forgot', 'inge', 'written', 'people', 'perfectly', 'onda', 'material', 'collateral', 'material', 'sized', 'sliced', 'heard', 'material', 'monitor', 'tick', 'ally', 'older', 'ally', 'position', 'position', 'position', 'tagger', 'attack', 'material', 'sliced', 'liking', 'college', 'indexed', 'remove', 'expat', 'material', 'type', 'duggan', 'remove', 'texting', 'copy', 'listen', 'step', 'menteri', 'attack', 'blow', 'material', 'slice', 'year', 'area', 'express', 'month', 'copy', 'couple', 'material', 'copied', 'material', 'andrea', 'slice', 'tag', 'material', 'type', 'material', 'type', 'express', 'hold', 'calling', 'real', 'attack', 'element', 'element', 'material', 'material', 'type', 'expects', 'brutal', 'replaced', 'slice', 'type', 'material', 'attack', 'report', 'slice', 'size', 'convicted', 'material', 'blind', 'material', 'material', 'theo', 'attack', 'writer', 'michael', 'material', 'texture', 'tech', 'material', 'size', 'size', 'area', 'month', 'material', 'size', 'maria', 'size', 'material', 'easy', 'material', 'size', 'referring', 'website', 'remember', 'event', 'size', 'test', 'unguarded', 'season', 'intuitive', 'andi', 'explain', 'intuitive', 'expat', 'comfortable', 'kid', 'understand', 'finish', 'figure', 'color', 'simon', 'color', 'college', 'palace', 'lagonda', 'euro', 'product', 'random', 'product', 'style', 'euro', 'keeping', 'convention', 'place', 'counter', 'color', 'shedding', 'sort', 'pointer', 'parse', 'color', 'discretion', 'place', 'color', 'enter', 'level', 'level', 'parsing', 'hard', 'randy', 'court', 'parse', 'michael', 'pace', 'parse', 'pastor', 'click', 'docker', 'directs', 'color', 'reach', 'color', 'color', 'color', 'bucket', 'color', 'year', 'reference', 'javascript', 'boyd', 'euro', 'diable', 'reference', 'normal', 'dynamic', 'sort', 'euro', 'bridge', 'remaining', 'force', 'previous', 'previous', 'speech', 'effort', 'piece', 'photo', 'safe', 'father', 'photo', 'gravel', 'major', 'loop', 'product', 'concrete', 'ended', 'title', 'imagery', 'ally', 'messily', 'list', 'legally', 'strenght', 'list', 'handle', 'lupo', 'imagined', 'calm', 'mystery', 'sample', 'sample', 'sentencing', 'resort', 'slack', 'slack', 'yemen', 'send', 'channel', 'case', 'unique', 'class', 'narrow', 'container', 'grab', 'list', 'girl', 'wanted', 'sample', 'year', 'shared', 'sound', 'control', 'passed', 'sample', 'sample', 'sample', 'fear', 'fine', 'fine', 'search', 'separate', 'material', 'comma', 'worry', 'served', 'comma', 'separate', 'separated', 'semi', 'karlan', 'worried', 'stage', 'clean', 'vato', 'greatest', 'randy', 'happy', 'correcting', 'tested', 'small', 'older', 'people', 'remember', 'pried', 'open', 'toed', 'randy', 'class', 'emma', 'surety', 'destroy', 'a.b.', 'clicked', 'sharing', 'biggest', 'item', 'narrow', 'unique', 'class', 'case', 'product', 'list', 'pride', 'grade', 'close', 'older', 'diva', 'connected', 'c.n.n.', 'organization', 'open', 'company', 'single', 'slash', 'englishness', 'slashed', 'grab', 'aled', 'child', 'child', 'object', 'star', 'grab', 'child', 'object', 'easier', 'item', 'anoop', 'piece', 'loco', 'relative', 'link', 'treacherous', 'guarded', 'guarded', 'hear', 'debug', 'randy', 'perfecter', 'euro', 'relative', 'saved', 'pas', 'response', 'correct', 'direction', 'perfect', 'vocal', 'pull', 'vote', 'tonight', 'level', 'eye', 'question', 'level', 'parsing', 'sickening', 'greed', 'arcing', 'ascended', 'parse', 'green', 'month', 'equating', 'grab', 'color', 'product', 'parsing', 'single', 'product', 'single', 'business', 'difficult', 'unity', 'crappy', 'pearl', 'product', 'parent', 'color', 'stay', 'product', 'color', 'bridge', 'beach', 'beach', 'steve', 'stood', 'dying', 'ivester', 'change', 'easy', 'road', 'stun', 'gun', 'deadline', 'place', 'liquor', 'friday', 'islamic', 'sophisticated', 'decide', 'tomorrow', 'develop', 'breaking', 'ranley', 'hashish', 'cooking', 'victor', 'president', 'older', 'accept', 'political', 'yemen', 'west', 'selected', 'weapon', 'longer', 'long', 'learning', 'expat', 'riot', 'committed', 'tricky', 'title', 'told', 'double', 'ended', 'easy', 'easy', 'expert', 'logic', 'express', 'understand', 'defined', 'note', 'order', 'defending', 'double', 'devon', 'slash', 'double', 'slash', 'grabbing', 'object', 'child', 'slash', 'wanna', 'grab', 'change', 'child', 'catch', 'absolute', 'operate', 'tire', 'break', 'andre']\n"
     ]
    }
   ],
   "source": [
    "testtext_data=[]\n",
    "str2=[]\n",
    "for doc in test_docs:\n",
    "        t_tokens = prepare_text_for_lda(doc)\n",
    "        if random.random() > .60:\n",
    "            print(t_tokens)\n",
    "            testtext_data.append(t_tokens)"
   ]
  },
  {
   "cell_type": "raw",
   "metadata": {},
   "source": []
  },
  {
   "cell_type": "code",
   "execution_count": 29,
   "metadata": {},
   "outputs": [
    {
     "name": "stdout",
     "output_type": "stream",
     "text": [
      "Score: 0.7591813206672668\t Topic: 0.020*\"docker\" + 0.017*\"class\" + 0.014*\"year\" + 0.014*\"response\"\n",
      "Score: 0.0946977362036705\t Topic: 0.012*\"presentation\" + 0.008*\"fine\" + 0.008*\"combine\" + 0.006*\"hear\"\n",
      "Score: 0.07987362146377563\t Topic: 0.025*\"test\" + 0.014*\"choice\" + 0.014*\"change\" + 0.014*\"host\"\n",
      "Score: 0.06624732911586761\t Topic: 0.020*\"reward\" + 0.020*\"website\" + 0.016*\"button\" + 0.016*\"bacon\"\n",
      "Score: 0.7591842412948608\t Topic: 0.020*\"docker\" + 0.017*\"class\" + 0.014*\"year\" + 0.014*\"response\"\n",
      "Score: 0.09468652307987213\t Topic: 0.012*\"presentation\" + 0.008*\"fine\" + 0.008*\"combine\" + 0.006*\"hear\"\n",
      "Score: 0.07987121492624283\t Topic: 0.025*\"test\" + 0.014*\"choice\" + 0.014*\"change\" + 0.014*\"host\"\n",
      "Score: 0.06625805050134659\t Topic: 0.020*\"reward\" + 0.020*\"website\" + 0.016*\"button\" + 0.016*\"bacon\"\n"
     ]
    }
   ],
   "source": [
    "for doc in test_docs:\n",
    "        t_tokens = prepare_text_for_lda(doc)\n",
    "        bow_vector = id2word.doc2bow(t_tokens)\n",
    "        res = ldamodel[bow_vector]\n",
    "        for index, score in sorted(res, key=lambda tup: -1*tup[1]):\n",
    "            print(\"Score: {}\\t Topic: {}\".format(score, ldamodel.print_topic(index, 4)))"
   ]
  },
  {
   "cell_type": "code",
   "execution_count": null,
   "metadata": {},
   "outputs": [],
   "source": []
  }
 ],
 "metadata": {
  "kernelspec": {
   "display_name": "Python 3",
   "language": "python",
   "name": "python3"
  },
  "language_info": {
   "codemirror_mode": {
    "name": "ipython",
    "version": 3
   },
   "file_extension": ".py",
   "mimetype": "text/x-python",
   "name": "python",
   "nbconvert_exporter": "python",
   "pygments_lexer": "ipython3",
   "version": "3.7.4"
  }
 },
 "nbformat": 4,
 "nbformat_minor": 4
}
